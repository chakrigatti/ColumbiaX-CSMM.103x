{
 "cells": [
  {
   "cell_type": "code",
   "execution_count": 4,
   "metadata": {},
   "outputs": [],
   "source": [
    "import tf_transformations\n",
    "import numpy as np\n",
    "from geometry_msgs.msg import Transform"
   ]
  },
  {
   "cell_type": "code",
   "execution_count": 16,
   "metadata": {},
   "outputs": [],
   "source": [
    "def message_from_transform(T):\n",
    "    '''\n",
    "    http://docs.ros.org/kinetic/api/geometry_msgs/html/msg/Transform.html\n",
    "\n",
    "    geometry_msgs/Vector3 translation\n",
    "    geometry_msgs/Quaternion rotation\n",
    "    '''\n",
    "    msg = Transform()\n",
    "    q = tf_transformations.quaternion_from_matrix(T)\n",
    "    translation = tf_transformations.translation_from_matrix(T)\n",
    "    msg.translation.x = translation[0]\n",
    "    msg.translation.y = translation[1]\n",
    "    msg.translation.z = translation[2]\n",
    "    msg.rotation.x = q[0]\n",
    "    msg.rotation.y = q[1]\n",
    "    msg.rotation.z = q[2]\n",
    "    msg.rotation.w = q[3]\n",
    "    return msg\n",
    "\n",
    "def get_rotation_matrix_from_vector(vector):\n",
    "    # Normalize the input vector (new x-axis)\n",
    "    vector = np.array(vector)\n",
    "    x_axis = vector / np.linalg.norm(vector)\n",
    "    \n",
    "    # Create an arbitrary vector that is not parallel to the input vector\n",
    "    arbitrary_vec = np.array([0, 0, 1]) if np.allclose(x_axis, [1, 0, 0]) else np.array([1, 0, 0])\n",
    "    \n",
    "    # Compute the new z-axis as the cross product of the new x-axis and the arbitrary vector\n",
    "    z_axis = np.cross(x_axis, arbitrary_vec)\n",
    "    z_axis /= np.linalg.norm(z_axis)  # Normalize the z-axis\n",
    "    \n",
    "    # Compute the new y-axis as the cross product of the new z-axis and the new x-axis\n",
    "    y_axis = np.cross(z_axis, x_axis)\n",
    "    \n",
    "    # Return the rotation matrix (new basis)\n",
    "    rotation_matrix = np.column_stack((x_axis, y_axis, z_axis))\n",
    "    \n",
    "    # Create the 4x4 transformation matrix\n",
    "    transformation_matrix = np.eye(4)  # Start with an identity matrix\n",
    "    transformation_matrix[:3, :3] = rotation_matrix  # Set the upper left 3x3 to the rotation matrix\n",
    "    \n",
    "    return transformation_matrix\n",
    "\n",
    "def inverse_transformation_matrix(matrix):\n",
    "    # Extract the rotation part (upper-left 3x3) and translation part (last column, first 3 elements)\n",
    "    rotation_matrix = matrix[:3, :3]\n",
    "    translation_vector = matrix[:3, 3]\n",
    "    \n",
    "    # Invert the rotation matrix (since it is orthogonal, the inverse is the transpose)\n",
    "    rotation_matrix_inv = np.transpose(rotation_matrix)\n",
    "    \n",
    "    # Invert the translation: -R_inv * T\n",
    "    translation_inv = -np.dot(rotation_matrix_inv, translation_vector)\n",
    "    \n",
    "    # Construct the inverse transformation matrix\n",
    "    inverse_matrix = np.eye(4)  # Start with an identity matrix\n",
    "    inverse_matrix[:3, :3] = rotation_matrix_inv  # Set the rotation part\n",
    "    inverse_matrix[:3, 3] = translation_inv  # Set the translation part\n",
    "    \n",
    "    return inverse_matrix\n"
   ]
  },
  {
   "cell_type": "code",
   "execution_count": 6,
   "metadata": {},
   "outputs": [],
   "source": [
    "T1 = tf_transformations.concatenate_matrices(\n",
    "    \t    tf_transformations.quaternion_matrix(tf_transformations.quaternion_from_euler(0.79, 0.0, 0.79)),\n",
    "    \t    tf_transformations.translation_matrix((0.0, 1.0, 1.0))\n",
    "        )\n",
    "object_transform = message_from_transform(T1)"
   ]
  },
  {
   "cell_type": "code",
   "execution_count": 8,
   "metadata": {},
   "outputs": [],
   "source": [
    "T2 = tf_transformations.concatenate_matrices(\n",
    "        tf_transformations.quaternion_matrix(tf_transformations.quaternion_about_axis(1.5, (0.0, 0.0, 1.0))),\n",
    "        tf_transformations.translation_matrix((0.0,-1.0,0.0))\n",
    "    )\n",
    "robot_transform = message_from_transform(T2)"
   ]
  },
  {
   "cell_type": "code",
   "execution_count": 23,
   "metadata": {},
   "outputs": [
    {
     "data": {
      "text/plain": [
       "array([[ 7.07372017e-02,  9.97494987e-01,  0.00000000e+00,\n",
       "         1.38777878e-17],\n",
       "       [-9.97494987e-01,  7.07372017e-02,  0.00000000e+00,\n",
       "         9.00000000e-01],\n",
       "       [ 0.00000000e+00,  0.00000000e+00,  1.00000000e+00,\n",
       "        -1.00000000e-01],\n",
       "       [ 0.00000000e+00,  0.00000000e+00,  0.00000000e+00,\n",
       "         1.00000000e+00]])"
      ]
     },
     "execution_count": 23,
     "metadata": {},
     "output_type": "execute_result"
    }
   ],
   "source": [
    "camera_translation_matrix = tf_transformations.translation_matrix((0.0,0.1,0.1))\n",
    "\n",
    "camera_transform_in_base_frame = tf_transformations.concatenate_matrices(\n",
    "    T2,\n",
    "    camera_translation_matrix\n",
    ")\n",
    "base_transform_in_camera_frame = inverse_transformation_matrix(camera_transform_in_base_frame)"
   ]
  },
  {
   "cell_type": "code",
   "execution_count": 41,
   "metadata": {},
   "outputs": [],
   "source": [
    "object_origin_in_base_frame = T1[:,3]\n",
    "object_origin_in_camera_frame = np.matmul(base_transform_in_camera_frame,object_origin_in_base_frame)"
   ]
  },
  {
   "cell_type": "code",
   "execution_count": 43,
   "metadata": {},
   "outputs": [
    {
     "data": {
      "text/plain": [
       "array([[-0.0026679 ,  0.99999644,  0.        ,  0.        ],\n",
       "       [ 0.56291406,  0.0015018 ,  0.82651407,  0.1       ],\n",
       "       [ 0.82651113,  0.00220506, -0.56291606,  0.1       ],\n",
       "       [ 0.        ,  0.        ,  0.        ,  1.        ]])"
      ]
     },
     "execution_count": 43,
     "metadata": {},
     "output_type": "execute_result"
    }
   ],
   "source": [
    "R3 = get_rotation_matrix_from_vector(object_origin_in_camera_frame[:3])\n",
    "T3 = tf_transformations.concatenate_matrices(\n",
    "            camera_translation_matrix,\n",
    "            R3   \n",
    "        )\n",
    "T3"
   ]
  }
 ],
 "metadata": {
  "kernelspec": {
   "display_name": "Python 3",
   "language": "python",
   "name": "python3"
  },
  "language_info": {
   "codemirror_mode": {
    "name": "ipython",
    "version": 3
   },
   "file_extension": ".py",
   "mimetype": "text/x-python",
   "name": "python",
   "nbconvert_exporter": "python",
   "pygments_lexer": "ipython3",
   "version": "3.10.12"
  }
 },
 "nbformat": 4,
 "nbformat_minor": 2
}
